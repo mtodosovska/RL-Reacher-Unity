{
 "cells": [
  {
   "cell_type": "markdown",
   "metadata": {},
   "source": [
    "# Continuous Control\n",
    "\n",
    "---\n",
    "\n",
    "You are welcome to use this coding environment to train your agent for the project.  Follow the instructions below to get started!\n",
    "\n",
    "### 1. Start the Environment\n",
    "\n",
    "Run the next code cell to install a few packages.  This line will take a few minutes to run!"
   ]
  },
  {
   "cell_type": "code",
   "execution_count": 1,
   "metadata": {},
   "outputs": [
    {
     "name": "stdout",
     "output_type": "stream",
     "text": [
      "\u001b[31mtensorflow 1.7.1 has requirement numpy>=1.13.3, but you'll have numpy 1.12.1 which is incompatible.\u001b[0m\r\n",
      "\u001b[31mipython 6.5.0 has requirement prompt-toolkit<2.0.0,>=1.0.15, but you'll have prompt-toolkit 3.0.16 which is incompatible.\u001b[0m\r\n"
     ]
    }
   ],
   "source": [
    "!pip -q install ./python"
   ]
  },
  {
   "cell_type": "markdown",
   "metadata": {},
   "source": [
    "The environments corresponding to both versions of the environment are already saved in the Workspace and can be accessed at the file paths provided below.  \n",
    "\n",
    "Please select one of the two options below for loading the environment."
   ]
  },
  {
   "cell_type": "code",
   "execution_count": 2,
   "metadata": {},
   "outputs": [],
   "source": [
    "file_name='/data/Reacher_One_Linux_NoVis/Reacher_One_Linux_NoVis.x86_64'\n",
    "with open(file_name, 'rb') as file:\n",
    "    ff = file.read()\n",
    "    with open('env', 'wb') as f:\n",
    "        f.write(ff)"
   ]
  },
  {
   "cell_type": "code",
   "execution_count": 2,
   "metadata": {},
   "outputs": [
    {
     "name": "stderr",
     "output_type": "stream",
     "text": [
      "INFO:unityagents:\n",
      "'Academy' started successfully!\n",
      "Unity Academy name: Academy\n",
      "        Number of Brains: 1\n",
      "        Number of External Brains : 1\n",
      "        Lesson number : 0\n",
      "        Reset Parameters :\n",
      "\t\tgoal_size -> 5.0\n",
      "\t\tgoal_speed -> 1.0\n",
      "Unity brain name: ReacherBrain\n",
      "        Number of Visual Observations (per agent): 0\n",
      "        Vector Observation space type: continuous\n",
      "        Vector Observation space size (per agent): 33\n",
      "        Number of stacked Vector Observation: 1\n",
      "        Vector Action space type: continuous\n",
      "        Vector Action space size (per agent): 4\n",
      "        Vector Action descriptions: , , , \n"
     ]
    }
   ],
   "source": [
    "from unityagents import UnityEnvironment\n",
    "import numpy as np\n",
    "\n",
    "# select this option to load version 1 (with a single agent) of the environment\n",
    "env = UnityEnvironment(file_name='/data/Reacher_One_Linux_NoVis/Reacher_One_Linux_NoVis.x86_64')\n",
    "\n",
    "# select this option to load version 2 (with 20 agents) of the environment\n",
    "# env = UnityEnvironment(file_name='/data/Reacher_Linux_NoVis/Reacher.x86_64')"
   ]
  },
  {
   "cell_type": "markdown",
   "metadata": {},
   "source": [
    "Environments contain **_brains_** which are responsible for deciding the actions of their associated agents. Here we check for the first brain available, and set it as the default brain we will be controlling from Python."
   ]
  },
  {
   "cell_type": "code",
   "execution_count": 3,
   "metadata": {},
   "outputs": [],
   "source": [
    "# get the default brain\n",
    "brain_name = env.brain_names[0]\n",
    "brain = env.brains[brain_name]"
   ]
  },
  {
   "cell_type": "markdown",
   "metadata": {},
   "source": [
    "### 2. Examine the State and Action Spaces\n",
    "\n",
    "Run the code cell below to print some information about the environment."
   ]
  },
  {
   "cell_type": "code",
   "execution_count": 4,
   "metadata": {},
   "outputs": [
    {
     "name": "stdout",
     "output_type": "stream",
     "text": [
      "Number of agents: 1\n",
      "Size of each action: 4\n",
      "There are 1 agents. Each observes a state with length: 33\n",
      "The state for the first agent looks like: [  0.00000000e+00  -4.00000000e+00   0.00000000e+00   1.00000000e+00\n",
      "  -0.00000000e+00  -0.00000000e+00  -4.37113883e-08   0.00000000e+00\n",
      "   0.00000000e+00   0.00000000e+00   0.00000000e+00   0.00000000e+00\n",
      "   0.00000000e+00   0.00000000e+00  -1.00000000e+01   0.00000000e+00\n",
      "   1.00000000e+00  -0.00000000e+00  -0.00000000e+00  -4.37113883e-08\n",
      "   0.00000000e+00   0.00000000e+00   0.00000000e+00   0.00000000e+00\n",
      "   0.00000000e+00   0.00000000e+00   5.75471878e+00  -1.00000000e+00\n",
      "   5.55726671e+00   0.00000000e+00   1.00000000e+00   0.00000000e+00\n",
      "  -1.68164849e-01]\n"
     ]
    }
   ],
   "source": [
    "# reset the environment\n",
    "env_info = env.reset(train_mode=True)[brain_name]\n",
    "\n",
    "# number of agents\n",
    "num_agents = len(env_info.agents)\n",
    "print('Number of agents:', num_agents)\n",
    "\n",
    "# size of each action\n",
    "action_size = brain.vector_action_space_size\n",
    "print('Size of each action:', action_size)\n",
    "\n",
    "# examine the state space \n",
    "states = env_info.vector_observations\n",
    "state_size = states.shape[1]\n",
    "print('There are {} agents. Each observes a state with length: {}'.format(states.shape[0], state_size))\n",
    "print('The state for the first agent looks like:', states[0])"
   ]
  },
  {
   "cell_type": "markdown",
   "metadata": {},
   "source": [
    "### 3. Take Random Actions in the Environment\n",
    "\n",
    "In the next code cell, you will learn how to use the Python API to control the agent and receive feedback from the environment.\n",
    "\n",
    "Note that **in this coding environment, you will not be able to watch the agents while they are training**, and you should set `train_mode=True` to restart the environment."
   ]
  },
  {
   "cell_type": "code",
   "execution_count": null,
   "metadata": {},
   "outputs": [],
   "source": [
    "env_info = env.reset(train_mode=True)[brain_name]      # reset the environment    \n",
    "states = env_info.vector_observations                  # get the current state (for each agent)\n",
    "scores = np.zeros(num_agents)                          # initialize the score (for each agent)\n",
    "while True:\n",
    "    actions = np.random.randn(num_agents, action_size) # select an action (for each agent)\n",
    "    actions = np.clip(actions, -1, 1)                  # all actions between -1 and 1\n",
    "    env_info = env.step(actions)[brain_name]           # send all actions to tne environment\n",
    "    next_states = env_info.vector_observations         # get next state (for each agent)\n",
    "    rewards = env_info.rewards                         # get reward (for each agent)\n",
    "    dones = env_info.local_done                        # see if episode finished\n",
    "    scores += env_info.rewards                         # update the score (for each agent)\n",
    "    states = next_states                               # roll over states to next time step\n",
    "    if np.any(dones):                                  # exit loop if episode finished\n",
    "        break\n",
    "print('Total score (averaged over agents) this episode: {}'.format(np.mean(scores)))"
   ]
  },
  {
   "cell_type": "markdown",
   "metadata": {},
   "source": [
    "When finished, you can close the environment."
   ]
  },
  {
   "cell_type": "markdown",
   "metadata": {},
   "source": [
    "### 4. It's Your Turn!\n",
    "\n",
    "Now it's your turn to train your own agent to solve the environment!  A few **important notes**:\n",
    "- When training the environment, set `train_mode=True`, so that the line for resetting the environment looks like the following:\n",
    "```python\n",
    "env_info = env.reset(train_mode=True)[brain_name]\n",
    "```\n",
    "- To structure your work, you're welcome to work directly in this Jupyter notebook, or you might like to start over with a new file!  You can see the list of files in the workspace by clicking on **_Jupyter_** in the top left corner of the notebook.\n",
    "- In this coding environment, you will not be able to watch the agents while they are training.  However, **_after training the agents_**, you can download the saved model weights to watch the agents on your own machine! "
   ]
  },
  {
   "cell_type": "code",
   "execution_count": null,
   "metadata": {},
   "outputs": [],
   "source": [
    "!pip -q install ./python"
   ]
  },
  {
   "cell_type": "code",
   "execution_count": 3,
   "metadata": {},
   "outputs": [],
   "source": [
    "from agent import Agent\n",
    "\n",
    "import numpy as np\n",
    "import random\n",
    "import time\n",
    "import torch\n",
    "\n",
    "import matplotlib.pyplot as plt\n",
    "%matplotlib inline\n",
    "\n",
    "from collections import deque\n",
    "from unityagents import UnityEnvironment"
   ]
  },
  {
   "cell_type": "code",
   "execution_count": 6,
   "metadata": {
    "scrolled": true
   },
   "outputs": [
    {
     "name": "stderr",
     "output_type": "stream",
     "text": [
      "INFO:unityagents:\n",
      "'Academy' started successfully!\n",
      "Unity Academy name: Academy\n",
      "        Number of Brains: 1\n",
      "        Number of External Brains : 1\n",
      "        Lesson number : 0\n",
      "        Reset Parameters :\n",
      "\t\tgoal_speed -> 1.0\n",
      "\t\tgoal_size -> 5.0\n",
      "Unity brain name: ReacherBrain\n",
      "        Number of Visual Observations (per agent): 0\n",
      "        Vector Observation space type: continuous\n",
      "        Vector Observation space size (per agent): 33\n",
      "        Number of stacked Vector Observation: 1\n",
      "        Vector Action space type: continuous\n",
      "        Vector Action space size (per agent): 4\n",
      "        Vector Action descriptions: , , , \n"
     ]
    }
   ],
   "source": [
    "env = UnityEnvironment(file_name='/data/Reacher_Linux_NoVis/Reacher.x86_64')"
   ]
  },
  {
   "cell_type": "code",
   "execution_count": 7,
   "metadata": {},
   "outputs": [],
   "source": [
    "# get the default brain\n",
    "brain_name = env.brain_names[0]\n",
    "brain = env.brains[brain_name]"
   ]
  },
  {
   "cell_type": "code",
   "execution_count": 1,
   "metadata": {},
   "outputs": [],
   "source": [
    "def ddpg(num_episodes=2000, max_t=1000, avg=100, score_threshold=30):\n",
    "\n",
    "    scores_deque = deque(maxlen=avg) \n",
    "    scores = []        \n",
    "    print(\"Training started...\")\n",
    "    \n",
    "    for num_episode in range(1, num_episodes+1):\n",
    "        \n",
    "        env_info = env.reset(train_mode=True)[brain_name]\n",
    "        states = env_info.vector_observations\n",
    "        \n",
    "        agent.reset()\n",
    "        episode_scores = np.zeros(num_agents) \n",
    "\n",
    "        start_time = time.time()\n",
    "        for t in range(max_t):\n",
    "            actions = agent.act(states)\n",
    "            env_info = env.step(actions)[brain_name]           \n",
    "            next_states = env_info.vector_observations         \n",
    "            rewards = env_info.rewards                         \n",
    "            dones = env_info.local_done                        \n",
    "            \n",
    "            for state, action, reward, next_state, done in zip(states, actions, rewards, next_states, dones):\n",
    "                agent.step(state, action, reward, next_state, done, t)\n",
    "                \n",
    "            states = next_states\n",
    "            episode_scores += rewards\n",
    "            if np.any(dones):\n",
    "                break \n",
    "        \n",
    "        episode_avg_score = np.mean(episode_scores)\n",
    "        scores_deque.append(episode_avg_score)\n",
    "        scores.append(episode_avg_score)\n",
    "        average_score = np.mean(scores_deque)\n",
    "        ttime = time.time() - start_time\n",
    "\n",
    "        print('\\rEpisode: {}\\tAverage Score: {:.2f}\\tCurrent Score: {:.2f}\\tTime: {}'.format(num_episode + 40, average_score, episode_score, round(ttime)), end=\"\")\n",
    "        if num_episode % 10 == 0:\n",
    "            print('\\rEpisode: {}\\tAverage Score: {:.2f}\\tCurrent Score: {:.2f}\\tTime: {}'.format(num_episode, average_score, episode_score))\n",
    "            torch.save(agent.actor_local.state_dict(), 'checkpoint_actor.pth')\n",
    "            torch.save(agent.critic_local.state_dict(), 'checkpoint_critic.pth')\n",
    "            np.save('scores.npy', scores)\n",
    "\n",
    "        if average_score >= score_threshold:\n",
    "            print('\\nEnvironment solved in {} episodes!\\tAverage Score: {:.2f}'.format(num_episode-avg+40, average_score))\n",
    "            torch.save(agent.actor_local.state_dict(), 'checkpoint_actor.pth')\n",
    "            torch.save(agent.critic_local.state_dict(), 'checkpoint_critic.pth')\n",
    "            np.save('scores.npy', scores)\n",
    "            break\n",
    "\n",
    "    return scores"
   ]
  },
  {
   "cell_type": "code",
   "execution_count": 8,
   "metadata": {},
   "outputs": [],
   "source": [
    "env_info = env.reset(train_mode=True)[brain_name] "
   ]
  },
  {
   "cell_type": "code",
   "execution_count": 9,
   "metadata": {},
   "outputs": [],
   "source": [
    "state_size = 33\n",
    "action_size = 4\n",
    "num_agents = 20\n",
    "seed = 42"
   ]
  },
  {
   "cell_type": "code",
   "execution_count": 10,
   "metadata": {},
   "outputs": [],
   "source": [
    "agent = Agent(state_size=state_size, action_size=action_size, random_seed=seed)"
   ]
  },
  {
   "cell_type": "code",
   "execution_count": null,
   "metadata": {},
   "outputs": [
    {
     "name": "stdout",
     "output_type": "stream",
     "text": [
      "Training started...\n",
      "Episode: 1\tAverage Score: 0.85\tCurrent Score: 0.85\tTime: 118\n",
      "Episode: 2\tAverage Score: 1.07\tCurrent Score: 1.29\tTime: 121\n",
      "Episode: 3\tAverage Score: 1.53\tCurrent Score: 2.45\tTime: 123\n",
      "Episode: 4\tAverage Score: 1.94\tCurrent Score: 3.15\tTime: 124\n",
      "Episode: 5\tAverage Score: 2.21\tCurrent Score: 3.31\tTime: 121\n",
      "Episode: 6\tAverage Score: 2.54\tCurrent Score: 4.16\tTime: 124\n",
      "Episode: 7\tAverage Score: 2.75\tCurrent Score: 4.01\tTime: 121\n",
      "Episode: 8\tAverage Score: 2.93\tCurrent Score: 4.25\tTime: 125\n",
      "Episode: 9\tAverage Score: 3.16\tCurrent Score: 5.00\tTime: 131\n",
      "Episode: 10\tAverage Score: 3.54\tCurrent Score: 6.97\tTime: 136\n",
      "Episode: 11\tAverage Score: 3.89\tCurrent Score: 7.39\tTime: 129\n",
      "Episode: 12\tAverage Score: 4.20\tCurrent Score: 7.55\tTime: 132\n",
      "Episode: 13\tAverage Score: 4.42\tCurrent Score: 7.02\tTime: 134\n",
      "Episode: 14\tAverage Score: 4.73\tCurrent Score: 8.76\tTime: 132\n",
      "Episode: 15\tAverage Score: 4.94\tCurrent Score: 7.87\tTime: 135\n",
      "Episode: 16\tAverage Score: 5.19\tCurrent Score: 9.04\tTime: 138\n",
      "Episode: 17\tAverage Score: 5.46\tCurrent Score: 9.79\tTime: 140\n",
      "Episode: 18\tAverage Score: 5.67\tCurrent Score: 9.16\tTime: 143\n",
      "Episode: 19\tAverage Score: 5.92\tCurrent Score: 10.53\tTime: 142\n",
      "Episode: 20\tAverage Score: 6.13\tCurrent Score: 9.99\tTime: 147\n",
      "Episode: 21\tAverage Score: 6.44\tCurrent Score: 12.77\tTime: 150\n",
      "Episode: 22\tAverage Score: 6.66\tCurrent Score: 11.11\tTime: 152\n",
      "Episode: 23\tAverage Score: 6.95\tCurrent Score: 13.48\tTime: 155\n",
      "Episode: 24\tAverage Score: 7.18\tCurrent Score: 12.45\tTime: 157\n",
      "Episode: 25\tAverage Score: 7.37\tCurrent Score: 11.88\tTime: 160\n",
      "Episode: 26\tAverage Score: 7.67\tCurrent Score: 15.19\tTime: 167\n",
      "Episode: 27\tAverage Score: 7.99\tCurrent Score: 16.24\tTime: 165\n",
      "Episode: 28\tAverage Score: 8.31\tCurrent Score: 16.98\tTime: 163\n",
      "Episode: 29\tAverage Score: 8.67\tCurrent Score: 18.78\tTime: 163\n",
      "Episode: 30\tAverage Score: 8.96\tCurrent Score: 17.22\tTime: 168\n",
      "Episode: 31\tAverage Score: 9.32\tCurrent Score: 20.17\tTime: 169\n",
      "Episode: 32\tAverage Score: 9.71\tCurrent Score: 21.95\tTime: 172\n",
      "Episode: 33\tAverage Score: 10.13\tCurrent Score: 23.45\tTime: 174\n",
      "Episode: 34\tAverage Score: 10.50\tCurrent Score: 22.74\tTime: 175\n",
      "Episode: 35\tAverage Score: 10.88\tCurrent Score: 23.79\tTime: 178\n",
      "Episode: 36\tAverage Score: 11.27\tCurrent Score: 24.90\tTime: 181\n",
      "Episode: 37\tAverage Score: 11.64\tCurrent Score: 25.04\tTime: 186\n",
      "Episode: 38\tAverage Score: 12.03\tCurrent Score: 26.61\tTime: 195\n",
      "Episode: 39\tAverage Score: 12.40\tCurrent Score: 26.37\tTime: 192\n",
      "Episode: 40\tAverage Score: 12.80\tCurrent Score: 28.17\tTime: 195\n",
      "Episode: 41\tAverage Score: 13.19\tCurrent Score: 29.11\tTime: 203\n",
      "Episode: 42\tAverage Score: 13.60\tCurrent Score: 30.19\tTime: 209\n"
     ]
    }
   ],
   "source": [
    "scores = ddpg()"
   ]
  },
  {
   "cell_type": "markdown",
   "metadata": {},
   "source": [
    "Here my connection broke and the training stoped, so I loaded the saved weights in the init method of the agent, and continued from the last saved place, episode 40. The weights in question are saved with the extension \"_202\" in the names."
   ]
  },
  {
   "cell_type": "code",
   "execution_count": 12,
   "metadata": {},
   "outputs": [
    {
     "name": "stdout",
     "output_type": "stream",
     "text": [
      "Training started...\n",
      "Episode: 41\tAverage Score: 14.95\tCurrent Score: 14.95\tTime: 138\n",
      "Episode: 42\tAverage Score: 17.01\tCurrent Score: 19.08\tTime: 115\n",
      "Episode: 43\tAverage Score: 19.21\tCurrent Score: 23.62\tTime: 116\n",
      "Episode: 44\tAverage Score: 20.10\tCurrent Score: 22.76\tTime: 116\n",
      "Episode: 45\tAverage Score: 21.47\tCurrent Score: 26.96\tTime: 118\n",
      "Episode: 46\tAverage Score: 23.11\tCurrent Score: 31.32\tTime: 120\n",
      "Episode: 47\tAverage Score: 24.55\tCurrent Score: 33.17\tTime: 119\n",
      "Episode: 48\tAverage Score: 25.55\tCurrent Score: 32.56\tTime: 120\n",
      "Episode: 49\tAverage Score: 26.46\tCurrent Score: 33.76\tTime: 118\n",
      "Episode: 50\tAverage Score: 27.47\tCurrent Score: 36.54\tTime: 121\n",
      "Episode: 51\tAverage Score: 28.30\tCurrent Score: 36.54\tTime: 122\n",
      "Episode: 52\tAverage Score: 29.04\tCurrent Score: 37.20\tTime: 124\n",
      "Episode: 53\tAverage Score: 29.68\tCurrent Score: 37.43\tTime: 127\n",
      "Episode: 54\tAverage Score: 30.24\tCurrent Score: 37.42\tTime: 128\n",
      "\n",
      "Environment solved in -46 episodes!\tAverage Score: 30.24\n"
     ]
    }
   ],
   "source": [
    "scores = ddpg()"
   ]
  },
  {
   "cell_type": "markdown",
   "metadata": {},
   "source": [
    "Since there were two parts to the training of the model, here I concatenate the scores."
   ]
  },
  {
   "cell_type": "code",
   "execution_count": 6,
   "metadata": {},
   "outputs": [],
   "source": [
    "scores_0 = list(np.load('scores.npy'))\n",
    "scores_1 = list(np.load('scores_03.npy'))\n",
    "scores_0.extend(scores_1)"
   ]
  },
  {
   "cell_type": "code",
   "execution_count": 8,
   "metadata": {},
   "outputs": [
    {
     "data": {
      "image/png": "[encoded data removed]",
      "text/plain": [
       "<matplotlib.figure.Figure at 0x7f1c797f49b0>"
      ]
     },
     "metadata": {
      "needs_background": "light"
     },
     "output_type": "display_data"
    }
   ],
   "source": [
    "fig = plt.figure()\n",
    "ax = fig.add_subplot(111)\n",
    "plt.plot(np.arange(1, len(scores_0)+1), scores_0)\n",
    "plt.ylabel('Score')\n",
    "plt.xlabel('Episode #')\n",
    "plt.show()"
   ]
  },
  {
   "cell_type": "code",
   "execution_count": null,
   "metadata": {},
   "outputs": [],
   "source": [
    "env.close()"
   ]
  },
  {
   "cell_type": "markdown",
   "metadata": {},
   "source": [
    "### An honorable mention to a previous effort"
   ]
  },
  {
   "cell_type": "markdown",
   "metadata": {},
   "source": [
    "This was an approach I had tried previously, though ultimately unsuccesseful, it took time to make and a long time to train to this point, so it gets an honorable mention as the solution that almost was."
   ]
  },
  {
   "cell_type": "code",
   "execution_count": null,
   "metadata": {
    "scrolled": true
   },
   "outputs": [
    {
     "name": "stdout",
     "output_type": "stream",
     "text": [
      "Training on cuda:0 started...\n",
      "Episode: 10\tAverage Score: 0.91\tCurrent Score: 0.91\n",
      "Episode: 20\tAverage Score: 0.98\tCurrent Score: 0.17\n",
      "Episode: 30\tAverage Score: 0.94\tCurrent Score: 1.10\n",
      "Episode: 40\tAverage Score: 1.24\tCurrent Score: 2.48\n",
      "Episode: 50\tAverage Score: 1.55\tCurrent Score: 3.05\n",
      "Episode: 60\tAverage Score: 1.93\tCurrent Score: 3.75\n",
      "Episode: 70\tAverage Score: 2.32\tCurrent Score: 4.81\n",
      "Episode: 80\tAverage Score: 2.73\tCurrent Score: 6.72\n",
      "Episode: 90\tAverage Score: 3.21\tCurrent Score: 8.09\n",
      "Episode: 100\tAverage Score: 3.77\tCurrent Score: 8.89\n",
      "Episode: 110\tAverage Score: 4.64\tCurrent Score: 10.89\n",
      "Episode: 120\tAverage Score: 5.56\tCurrent Score: 10.86\n",
      "Episode: 130\tAverage Score: 6.79\tCurrent Score: 14.63\n",
      "Episode: 140\tAverage Score: 8.06\tCurrent Score: 15.40\n",
      "Episode: 150\tAverage Score: 9.37\tCurrent Score: 17.96\n",
      "Episode: 160\tAverage Score: 10.61\tCurrent Score: 15.94\n",
      "Episode: 170\tAverage Score: 11.83\tCurrent Score: 18.97\n",
      "Episode: 180\tAverage Score: 13.02\tCurrent Score: 16.80\n",
      "Episode: 190\tAverage Score: 14.00\tCurrent Score: 16.64\n",
      "Episode: 200\tAverage Score: 14.82\tCurrent Score: 16.47\n",
      "Episode: 210\tAverage Score: 15.68\tCurrent Score: 17.94\n",
      "Episode: 220\tAverage Score: 16.56\tCurrent Score: 20.94\n",
      "Episode: 230\tAverage Score: 17.21\tCurrent Score: 20.32\n",
      "Episode: 240\tAverage Score: 17.69\tCurrent Score: 19.40\n",
      "Episode: 250\tAverage Score: 17.98\tCurrent Score: 17.72\n",
      "Episode: 260\tAverage Score: 18.21\tCurrent Score: 18.15\n",
      "Episode: 270\tAverage Score: 18.42\tCurrent Score: 19.82\n",
      "Episode: 280\tAverage Score: 18.78\tCurrent Score: 22.10\n",
      "Episode: 290\tAverage Score: 19.26\tCurrent Score: 21.36\n",
      "Episode: 300\tAverage Score: 19.77\tCurrent Score: 20.78\n",
      "Episode: 310\tAverage Score: 20.10\tCurrent Score: 21.67\n",
      "Episode: 320\tAverage Score: 20.44\tCurrent Score: 22.81\n",
      "Episode: 330\tAverage Score: 20.81\tCurrent Score: 22.76\n",
      "Episode: 340\tAverage Score: 21.24\tCurrent Score: 24.35\n",
      "Episode: 350\tAverage Score: 21.68\tCurrent Score: 21.86\n",
      "Episode: 360\tAverage Score: 22.13\tCurrent Score: 23.10\n",
      "Episode: 370\tAverage Score: 22.55\tCurrent Score: 23.66\n",
      "Episode: 380\tAverage Score: 22.82\tCurrent Score: 23.67\n",
      "Episode: 390\tAverage Score: 22.96\tCurrent Score: 21.70\n",
      "Episode: 400\tAverage Score: 22.97\tCurrent Score: 24.06\n",
      "Episode: 410\tAverage Score: 23.08\tCurrent Score: 22.26\n",
      "Episode: 420\tAverage Score: 23.07\tCurrent Score: 22.09\n",
      "Episode: 428\tAverage Score: 22.99\tCurrent Score: 22.63"
     ]
    }
   ],
   "source": [
    "scores = ddpg()"
   ]
  }
 ],
 "metadata": {
  "kernelspec": {
   "display_name": "Python 3",
   "language": "python",
   "name": "python3"
  },
  "language_info": {
   "codemirror_mode": {
    "name": "ipython",
    "version": 3
   },
   "file_extension": ".py",
   "mimetype": "text/x-python",
   "name": "python",
   "nbconvert_exporter": "python",
   "pygments_lexer": "ipython3",
   "version": "3.7.1"
  }
 },
 "nbformat": 4,
 "nbformat_minor": 2
}
